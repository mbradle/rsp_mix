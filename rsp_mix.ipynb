{
 "cells": [
  {
   "cell_type": "markdown",
   "metadata": {},
   "source": [
    "# RSP Mix\n",
    "The goal of this notebook is to examine mixtures of outputs from the r, s, and p processes and, if desired, compare them to cosmochemical data."
   ]
  },
  {
   "cell_type": "markdown",
   "metadata": {},
   "source": [
    "Begin by installing and importing the necessary python libraries"
   ]
  },
  {
   "cell_type": "code",
   "execution_count": 1,
   "metadata": {},
   "outputs": [],
   "source": [
    "import sys, subprocess, importlib.metadata\n",
    "\n",
    "required = {'requests', 'numpy', 'matplotlib', 'ipywidgets','wnutils', 'xmlcoll', 'scipy'}\n",
    "installed = {x.name for x in importlib.metadata.distributions()}\n",
    "missing = required - installed\n",
    "\n",
    "if missing:\n",
    "    subprocess.check_call([sys.executable,'-m','pip','install','--quiet',*missing])\n",
    "\n",
    "import io, requests\n",
    "from ipywidgets import interact, interactive_output, HBox\n",
    "import ipywidgets as widgets\n",
    "import matplotlib.pyplot as plt\n",
    "import wnutils.xml as wx\n",
    "import xmlcoll.coll as xc\n",
    "import numpy as np\n",
    "from scipy.optimize import curve_fit"
   ]
  },
  {
   "cell_type": "markdown",
   "metadata": {},
   "source": [
    "# Preliminaries."
   ]
  },
  {
   "cell_type": "markdown",
   "metadata": {},
   "source": [
    "Define some routines for the notebook.  First, define a routine to retrieve zone abundances from the xml data."
   ]
  },
  {
   "cell_type": "code",
   "execution_count": 2,
   "metadata": {},
   "outputs": [],
   "source": [
    "def get_process_abundances(my_collection, compilation):\n",
    "    proc = {}\n",
    "    for process in ['p', 's', 'r']:\n",
    "        proc[process] = {}\n",
    "    for item in my_collection.get().values():\n",
    "        solar_abundance = float(item.get_properties()['solar abundance'])\n",
    "        for key, value in item.get_properties().items():\n",
    "            if isinstance(key, tuple) and key[0] == compilation and key[1] == 'fraction':\n",
    "                proc[key[2]][item.get_name()] = float(value) * solar_abundance\n",
    "    return proc"
   ]
  },
  {
   "cell_type": "markdown",
   "metadata": {},
   "source": [
    "Define a routine to retrieve the data for the processes and store in arrays."
   ]
  },
  {
   "cell_type": "code",
   "execution_count": 3,
   "metadata": {},
   "outputs": [],
   "source": [
    "def get_proc(sp, norm_species):\n",
    "\n",
    "    y = []\n",
    "\n",
    "    proc = {}\n",
    "    for key in result:\n",
    "        proc[key] = np.zeros(len(sp))\n",
    "        count = 0\n",
    "        for s in sp:\n",
    "            if s in result[key]:\n",
    "                proc[key][count] = result[key][s]\n",
    "            count += 1\n",
    "            \n",
    "    for key in result:\n",
    "        proc[key] /= (np.sum(proc[key]) + 1.e-300) # Add a small amount to denominator in case contribution is zero.\n",
    "    \n",
    "    return proc"
   ]
  },
  {
   "cell_type": "markdown",
   "metadata": {},
   "source": [
    "Define a routine to retrieve mass numbers from a list of species."
   ]
  },
  {
   "cell_type": "code",
   "execution_count": 4,
   "metadata": {},
   "outputs": [],
   "source": [
    "def get_mass_numbers(nucs, sp):\n",
    "    a = np.empty([0])\n",
    "    for species in sp:\n",
    "        a = np.append(a, nucs[species]['a'])\n",
    "    return a"
   ]
  },
  {
   "cell_type": "markdown",
   "metadata": {},
   "source": [
    "Define a routine to retrieve the element name from a species."
   ]
  },
  {
   "cell_type": "code",
   "execution_count": 5,
   "metadata": {},
   "outputs": [],
   "source": [
    "def get_element_string(norm_species):\n",
    "    result = \"\"\n",
    "    for char in norm_species:\n",
    "        if char.isalpha():\n",
    "            result += char\n",
    "        \n",
    "    return result.capitalize()"
   ]
  },
  {
   "cell_type": "markdown",
   "metadata": {},
   "source": [
    "Define a routine to get the appropriate string for a species versus the normalizing species."
   ]
  },
  {
   "cell_type": "code",
   "execution_count": 6,
   "metadata": {},
   "outputs": [],
   "source": [
    "def get_sp_string(xml, nucs, sp, norm_species):\n",
    "    return '^{i}\\\\rm{' + get_element_string(norm_species) + '} / ' + xml.get_latex_names(sp)[norm_species].strip('$')"
   ]
  },
  {
   "cell_type": "markdown",
   "metadata": {},
   "source": [
    "Finally, define a mass-fractionation-correction routine that corrects the raw anomalies for instrumental or other fractionation.  The input should be the raw anomalies (*mu*) and the return should be the corrected anomalies (*mu_corr*).  The result should be that the anomaly in the correction species relative to the normalization species is zero.\n",
    "\n",
    "The default is to assume that the mass fraction of species $i$ in a sample relative to that of species $j$ in a standard should be corrected for mass fractionation by an exponential law.  Thus, $\\left(\\frac{X_i}{X_j}\\right)_{true} = \\left(\\frac{X_i}{X_j}\\right)_{meas} \\times \\left(\\frac{M_i}{M_j}\\right)^{-\\beta}$, where $true$ indicates the true ratio in the sample and $meas$ the measured ratio.  Since, to good approximation $M_i \\propto A_i$, where $A_i$ is the mass number of species $i$, one can write $\\left(\\frac{X_i}{X_j}\\right)_{true} = \\left(\\frac{X_i}{X_j}\\right)_{meas} \\times \\left(\\frac{A_i}{A_j}\\right)^{-\\beta}$.\n",
    "\n",
    "To find the value of $\\beta$, it is then assumed that the true ratio for the correction species $k$ relative to species $j$ should be the standard ($std$) value.  The standard value in this notebook is the Solar ratio, as read in from the appropriate file in a cell below.  Thus, once corrected for fractionation, species $k$ will have an anomaly of zero.  This yields $\\beta = \\ln\\left\\{\\frac{(X_k / X_j)_{meas}}{(X_k/X_j)_{std}}\\right\\} / \\ln(A_k / A_j)$.  Because the measured or raw $\\mu_{ij} = 10^6 \\left\\{\\frac{(X_i / X_j)_{meas}}{(X_i/X_j)_{std}} - 1\\right\\}$, then $\\frac{(X_i / X_j)_{meas}}{(X_i/X_j)_{std}} = 1 + \\frac{\\mu_{ij}}{10^6}$.  One then finds $\\beta = \\ln\\left(1 + \\frac{\\mu_{kj}}{10^6}\\right) / \\ln(A_k / A_j)$.  With $\\beta$ now available, the corrected anomaly for species $i$ relative to $j$ is $\\mu_{ij, corr} = 10^6 \\left\\{\\frac{(X_i/X_j)_{true}}{(X_i/X_j)_{std}} - 1\\right\\} = 10^6 \\left\\{\\frac{(X_i/X_j)_{meas}}{(X_i/X_j)_{std}} \\left(\\frac{A_i}{A_j}\\right)^{-\\beta} - 1\\right\\}$.  This may then be written $\\mu_{ij, corr} = 10^6 \\left\\{\\left(1 + \\frac{\\mu_{ij}}{10^6}\\right)\\left(\\frac{A_i}{A_j}\\right)^{-\\beta} - 1\\right\\}$. The mass-fractionation correction routine thus takes in an array of raw anomalies $\\mu$ (whose elements are $\\mu_{ij}$), the normalization species $j$, and the correction species $k$.  It returns the corrected anomalies array $\\mu_{corr}$ (whose elements are $\\mu_{ij, corr}$)."
   ]
  },
  {
   "cell_type": "code",
   "execution_count": 7,
   "metadata": {},
   "outputs": [],
   "source": [
    "def mass_fractionation_correction(mu, j, k):\n",
    "    beta = np.log(1 + mu[k]/1.e6) / np.log(a[k] / a[j])\n",
    "    mu_corr = 1.e6 * ((1 + mu / 1.e6) * np.power(a / a[j], -beta) - 1)\n",
    "    return mu_corr"
   ]
  },
  {
   "cell_type": "markdown",
   "metadata": {},
   "source": [
    "# Retrieve data."
   ]
  },
  {
   "cell_type": "markdown",
   "metadata": {},
   "source": [
    "Begin by reading in network data from [OSF](https://osf.io/kjnct/).  Retrieve the nuclides."
   ]
  },
  {
   "cell_type": "code",
   "execution_count": 8,
   "metadata": {},
   "outputs": [],
   "source": [
    "xml = wx.Xml(io.BytesIO(requests.get('https://osf.io/kyhbs/download').content))\n",
    "nucs = xml.get_nuclide_data()"
   ]
  },
  {
   "cell_type": "markdown",
   "metadata": {},
   "source": [
    "Next, read in the nucleosynthesis processes data and store in a wnutils XML object.  The default is to use files downloaded from [OSF](https://osf.io/967yw/).  To use your own data, put them in your working directory or uploading to Colab or Binder.  Then comment the second line, uncomment the third line, and replace *example.xml* with the chosen name."
   ]
  },
  {
   "cell_type": "code",
   "execution_count": 9,
   "metadata": {},
   "outputs": [],
   "source": [
    "rsp = xc.Collection()\n",
    "rsp.update_from_xml(io.BytesIO(requests.get('https://osf.io/z5wks/download').content))\n",
    "#rsp.update_from_xml('example.xml')"
   ]
  },
  {
   "cell_type": "markdown",
   "metadata": {},
   "source": [
    "Retrieve the data for the processes.  Begin by choosing the compilation.  The possible choices are '[prantzos](https://ui.adsabs.harvard.edu/abs/2020MNRAS.491.1832P/abstract)',  '[sneden](https://ui.adsabs.harvard.edu/abs/2008ARA%26A..46..241S/abstract)', '[goriely](https://ui.adsabs.harvard.edu/abs/1999A%26A...342..881G/abstract)', or '[bisterzo](https://ui.adsabs.harvard.edu/abs/2014ApJ...787...10B/abstract)'.  Note that the Bisterzo table only includes contribution from the main s process; thus, for the present table, the r-process contribution is computed as the solar contribution less that main s-process contribution.  As a consequence, the compilation based on Bisterzo overestimates the r-process contribution for elements with a weak s-process contribution.  For elements with atomic number less than about 45, it is preferable not to use 'bisterzo' in this notebook"
   ]
  },
  {
   "cell_type": "code",
   "execution_count": 10,
   "metadata": {},
   "outputs": [],
   "source": [
    "compilation = 'prantzos'"
   ]
  },
  {
   "cell_type": "markdown",
   "metadata": {},
   "source": [
    "Now get the data."
   ]
  },
  {
   "cell_type": "code",
   "execution_count": 11,
   "metadata": {},
   "outputs": [],
   "source": [
    "result = get_process_abundances(rsp, compilation)"
   ]
  },
  {
   "cell_type": "markdown",
   "metadata": {},
   "source": [
    "# Study nucleosynthesis mixtures."
   ]
  },
  {
   "cell_type": "markdown",
   "metadata": {},
   "source": [
    "Specify the species of interest, the normalizing species, and the mass-fractionation correction species.  Examples for species from different elements are available at [OSF](https://osf.io/mws8q).  You can cut and paste directly from that site, if appropriate."
   ]
  },
  {
   "cell_type": "code",
   "execution_count": 12,
   "metadata": {},
   "outputs": [],
   "source": [
    "sp = np.array(['mo92', 'mo94', 'mo95', 'mo96', 'mo97', 'mo98', 'mo100'])\n",
    "norm_species = 'mo96'\n",
    "corr_species = 'mo98'"
   ]
  },
  {
   "cell_type": "markdown",
   "metadata": {},
   "source": [
    "Check that the normalizing and mass-fractionation-correction species are present.  Retrieve mass numbers and strings."
   ]
  },
  {
   "cell_type": "code",
   "execution_count": 13,
   "metadata": {},
   "outputs": [],
   "source": [
    "assert norm_species in sp, \"Normalizing species not in species list\"\n",
    "assert corr_species in sp, \"Mass-fractionation-correction species not in species list\"\n",
    "\n",
    "a = get_mass_numbers(nucs, sp)\n",
    "element_string = get_element_string(norm_species) \n",
    "sp_string = get_sp_string(xml, nucs, sp, norm_species)"
   ]
  },
  {
   "cell_type": "markdown",
   "metadata": {},
   "source": [
    "Get the process data for the species.  Set the normalization index and mass-fractionation correction species index"
   ]
  },
  {
   "cell_type": "code",
   "execution_count": 14,
   "metadata": {},
   "outputs": [],
   "source": [
    "proc = get_proc(sp, norm_species)\n",
    "i_norm = np.where(sp == norm_species)\n",
    "i_corr = np.where(sp == corr_species)"
   ]
  },
  {
   "cell_type": "code",
   "execution_count": 15,
   "metadata": {},
   "outputs": [],
   "source": [
    "a = get_mass_numbers(nucs, sp)"
   ]
  },
  {
   "cell_type": "markdown",
   "metadata": {},
   "source": [
    "Plot the process contributions."
   ]
  },
  {
   "cell_type": "code",
   "execution_count": 16,
   "metadata": {},
   "outputs": [
    {
     "data": {
      "text/plain": [
       "<matplotlib.legend.Legend at 0x10e9a17f0>"
      ]
     },
     "execution_count": 16,
     "metadata": {},
     "output_type": "execute_result"
    },
    {
     "data": {
      "image/png": "[encoded data removed]",
      "text/plain": [
       "<Figure size 640x480 with 1 Axes>"
      ]
     },
     "metadata": {},
     "output_type": "display_data"
    }
   ],
   "source": [
    "for key in ['p', 'r', 's']:\n",
    "    plt.plot(a, proc[key], 'o-', label = key)\n",
    "    \n",
    "plt.legend()"
   ]
  },
  {
   "cell_type": "markdown",
   "metadata": {},
   "source": [
    "Get the standard abundance ratios.  By default, these are loaded from the processes data file.  To include your own data, uncomment and populate the last line in the following cell."
   ]
  },
  {
   "cell_type": "code",
   "execution_count": 17,
   "metadata": {},
   "outputs": [],
   "source": [
    "y = {}\n",
    "for item in rsp.get().values():\n",
    "    y[item.get_name()] = float(item.get_properties()['solar abundance'])\n",
    "\n",
    "standard = []\n",
    "\n",
    "for s in sp:\n",
    "    standard = np.append(standard, y[s] / y[norm_species])\n",
    "    \n",
    "#standard = np.array([])  # To use your own standard data, uncomment and populate this array."
   ]
  },
  {
   "cell_type": "markdown",
   "metadata": {},
   "source": [
    "Define a fit function for the processes to the standard abundances."
   ]
  },
  {
   "cell_type": "code",
   "execution_count": 18,
   "metadata": {},
   "outputs": [],
   "source": [
    "def fit_function(x, a_p, a_r, a_s):\n",
    "    result = a_p * proc['p'] + a_r * proc['r'] + a_s * proc['s']\n",
    "    result /= result[i_norm]\n",
    "    return result"
   ]
  },
  {
   "cell_type": "markdown",
   "metadata": {},
   "source": [
    "Compute the best fit to the standard.  Normalize the fit parameters."
   ]
  },
  {
   "cell_type": "code",
   "execution_count": 19,
   "metadata": {},
   "outputs": [],
   "source": [
    "popt_std, pcov_std = curve_fit(fit_function, a, standard, bounds=(0, [1, 1, 1]))\n",
    "popt_std /= np.sum(popt_std)"
   ]
  },
  {
   "cell_type": "markdown",
   "metadata": {},
   "source": [
    "Plot the fit."
   ]
  },
  {
   "cell_type": "code",
   "execution_count": 20,
   "metadata": {},
   "outputs": [
    {
     "data": {
      "text/plain": [
       "<matplotlib.legend.Legend at 0x10eba82d0>"
      ]
     },
     "execution_count": 20,
     "metadata": {},
     "output_type": "execute_result"
    },
    {
     "data": {
      "image/png": "[encoded data removed]",
      "text/plain": [
       "<Figure size 640x480 with 1 Axes>"
      ]
     },
     "metadata": {},
     "output_type": "display_data"
    }
   ],
   "source": [
    "plt.plot(a, standard, '-o', label='Standard')\n",
    "\n",
    "plt.plot(a, fit_function(a, *popt_std), '-o', label='Fit')\n",
    "\n",
    "plt.xlabel('A, Mass Number')\n",
    "plt.ylabel('$' + sp_string + '$')\n",
    "plt.legend()"
   ]
  },
  {
   "cell_type": "markdown",
   "metadata": {},
   "source": [
    "With the fit of nucleosynthetic components available, compute and print out the process contributions for each species.  The number in parentheses gives the abundance of the species relative to the normalizing speices in the fit."
   ]
  },
  {
   "cell_type": "code",
   "execution_count": 21,
   "metadata": {},
   "outputs": [
    {
     "name": "stdout",
     "output_type": "stream",
     "text": [
      "mo92 (15.00% of Mo)\n",
      "    p: 100.00%\n",
      "    r: 0.00%\n",
      "    s: 0.00%\n",
      "\n",
      "mo94 (9.37% of Mo)\n",
      "    p: 100.00%\n",
      "    r: 0.00%\n",
      "    s: 0.00%\n",
      "\n",
      "mo95 (15.70% of Mo)\n",
      "    p: 0.00%\n",
      "    r: 52.10%\n",
      "    s: 47.90%\n",
      "\n",
      "mo96 (16.52% of Mo)\n",
      "    p: 0.00%\n",
      "    r: 0.00%\n",
      "    s: 100.00%\n",
      "\n",
      "mo97 (9.52% of Mo)\n",
      "    p: 0.00%\n",
      "    r: 43.70%\n",
      "    s: 56.30%\n",
      "\n",
      "mo98 (24.17% of Mo)\n",
      "    p: 0.00%\n",
      "    r: 19.60%\n",
      "    s: 80.40%\n",
      "\n",
      "mo100 (9.72% of Mo)\n",
      "    p: 0.00%\n",
      "    r: 96.20%\n",
      "    s: 3.80%\n",
      "\n"
     ]
    }
   ],
   "source": [
    "c_hash = {'p': 0, 'r': 1, 's': 2}\n",
    "\n",
    "y_fit = {}\n",
    "y_sum = np.zeros(len(a))\n",
    "for key in c_hash:\n",
    "    y_fit[key] = popt_std[c_hash[key]] * proc[key]\n",
    "    y_sum += y_fit[key]\n",
    "    \n",
    "contribs = {}\n",
    "    \n",
    "for key in y_fit:\n",
    "    contribs[key] = 100. * y_fit[key] / y_sum \n",
    "    \n",
    "for i in range(len(sp)):\n",
    "    print('{:s} ({:.2f}% of {:s})'.format(sp[i], 100 * y_sum[i] / np.sum(y_sum), element_string))\n",
    "    for key in contribs:\n",
    "        print('    {:s}: {:.2f}%'.format(key, contribs[key][i]))\n",
    "    print(\"\")"
   ]
  },
  {
   "cell_type": "markdown",
   "metadata": {},
   "source": [
    "Now graphically represent the process contributions to each species."
   ]
  },
  {
   "cell_type": "code",
   "execution_count": 22,
   "metadata": {},
   "outputs": [
    {
     "data": {
      "image/png": "[encoded data removed]",
      "text/plain": [
       "<Figure size 640x480 with 1 Axes>"
      ]
     },
     "metadata": {},
     "output_type": "display_data"
    }
   ],
   "source": [
    "width = 0.6\n",
    "\n",
    "fig, ax = plt.subplots()\n",
    "bottom = np.zeros(len(a))\n",
    "\n",
    "for key, contrib in contribs.items():\n",
    "    p = ax.bar(a, contrib, width, label=key, bottom=bottom)\n",
    "    bottom += contrib\n",
    "    \n",
    "ax.set_xlabel('A, Mass Number')\n",
    "ax.set_ylabel('Percentage')\n",
    "    \n",
    "ax.set_title('Nucleosynthetic component contributions to {:s} isotopes'.format(element_string))\n",
    "ax.legend(bbox_to_anchor = (1,1), loc='upper left', ncol = 1)\n",
    "\n",
    "plt.show()"
   ]
  },
  {
   "cell_type": "markdown",
   "metadata": {},
   "source": [
    "With appropriate nucleosynthetic contributions now available, you can practice adding and subtracting different mixes of those components (in parts per million). Set *rng* to define the maximum range of variation of the components. Use the float text boxes to adjust the contribution of each component. You can enter values directly or click on the up/down arrows to increase or decrease the contribution.  Note that p_proc is the p-process component, r_proc is the r-process component, and s_proc is the s-process component.  Click on the *Show raw pattern* button to plot the pattern before the mass-fractionation correction.\n",
    "\n",
    "The anomalies are computed from the mass fractions in a sample taken to arise from a particular mix of mass drawn from the $r$-, $s$-, and $p$-process reservoirs.  The standard has a fraction $f_r$ of its mass from the $r$-process reservoir, a fraction $f_s$ of its mass from the $s$-process reservoir, and a fraction $f_p$ of its mass from the $p$-process reservoir.  The resulting mass fraction of species $i$ for the standard is thus $X_i^{standard} = f_r X_i^{(r)} + f_s X_i^{(s)} + f_p X_i^{(p)}$, where $X_i^{(q)}$ is the mass fraction of species $i$ in reservoir $q = r, s, p$.  In a sample arising from a different mix of $r$-, $s$-, and $p$-process contributions, the resulting mass fraction of species $i$ will be $X_i^{sample} = {\\cal N}^{-1} \\left[f_r \\left(1 + \\frac{\\delta f_r}{f_r}\\right) X_i^{(r)} + f_s \\left(1 + \\frac{\\delta f_s}{f_s}\\right) X_i^{(s)} + f_p \\left(1 + \\frac{\\delta f_p}{f_p}\\right) X_i^{(p)}\\right]$, where $\\delta f_q = f_q^{sample} - f_q$ for each reservoir $q$ and ${\\cal N} = 1 + \\delta f_r + \\delta f_s + \\delta f_p$.  Since ${\\cal N}$ cancels out in the calculation of relative anomalies, anomalies in samples may be computed by varying $\\delta f_q / f_q$ for $q = r, s, p$, as done here (in units of parts per million)."
   ]
  },
  {
   "cell_type": "code",
   "execution_count": 23,
   "metadata": {},
   "outputs": [
    {
     "data": {
      "application/vnd.jupyter.widget-view+json": {
       "model_id": "4829118090434ce3b0a07862b359e19d",
       "version_major": 2,
       "version_minor": 0
      },
      "text/plain": [
       "interactive(children=(BoundedFloatText(value=0.0, description='p_proc', max=1000.0, min=-1000.0, step=0.01), B…"
      ]
     },
     "metadata": {},
     "output_type": "display_data"
    },
    {
     "data": {
      "text/plain": [
       "<function __main__.f(p_proc, r_proc, s_proc, b_corr)>"
      ]
     },
     "execution_count": 23,
     "metadata": {},
     "output_type": "execute_result"
    }
   ],
   "source": [
    "rng = 1000\n",
    "\n",
    "def f(p_proc, r_proc, s_proc, b_corr):\n",
    "    c_p = (1 + p_proc/1.e6) * popt_std[0]\n",
    "    c_r = (1 + r_proc/1.e6) * popt_std[1]\n",
    "    c_s = (1 + s_proc/1.e6) * popt_std[2]\n",
    "\n",
    "    reference = fit_function(a, *popt_std)\n",
    "    reference /= reference[i_norm]\n",
    "    result = c_p * proc['p'] + c_r * proc['r'] + c_s * proc['s']\n",
    "    result /= result[i_norm]\n",
    "    mu_raw = 1.e6 * (result / reference - 1)\n",
    "    \n",
    "    mu = mass_fractionation_correction(mu_raw, i_norm, i_corr)\n",
    "    \n",
    "    plt.plot(a, mu, '-o', label='corrected')\n",
    "    \n",
    "    if b_corr:\n",
    "        plt.plot(a, mu_raw, ':o', label='raw')\n",
    "\n",
    "    plt.xlabel('A, Mass Number')\n",
    "    plt.ylabel('$\\\\mu(' + sp_string + ')$')\n",
    "    \n",
    "    if b_corr:\n",
    "        plt.legend()\n",
    "        \n",
    "    plt.show()\n",
    "        \n",
    "interact(f, p_proc = widgets.BoundedFloatText(value=0, min=-rng, max = rng, step=0.01, \n",
    "                                              descriptions='p_proc:', disabled=False),\n",
    "            r_proc = widgets.BoundedFloatText(value=0, min=-rng, max = rng, step=0.01, \n",
    "                                              descriptions='r_proc:', disabled=False),\n",
    "            s_proc = widgets.BoundedFloatText(value=0, min=-rng, max = rng, step=0.01, \n",
    "                                              descriptions='s_proc:', disabled=False),\n",
    "            b_corr = widgets.Checkbox(value=False, description='Show raw pattern', disabled=False, \n",
    "                                      indent=True))"
   ]
  },
  {
   "cell_type": "markdown",
   "metadata": {},
   "source": [
    "# Compare to data."
   ]
  },
  {
   "cell_type": "markdown",
   "metadata": {},
   "source": [
    "This section allows the user to compare nucleosynthetic mixtures to data. The default is not to run the comparison (*run_comparison = False*).  To make the comparison, set *run_comparison* to *True*."
   ]
  },
  {
   "cell_type": "code",
   "execution_count": 24,
   "metadata": {},
   "outputs": [],
   "source": [
    "run_comparison = False"
   ]
  },
  {
   "cell_type": "markdown",
   "metadata": {},
   "source": [
    "Add data and error values to compare to nucleosynthetic mixes.  Make sure that no error value is zero as this will cause a problem with the fits.  The *data* array gives the deviations from the standard for each species (in parts per million) while *error* is the array giving the uncertainty for each data point.  The *data* and *error* arrays need to match up with the *a* and *sp* arrays defined above.  The example data are for the Chihuahua City IC iron meteorite from [Kruijer et al. (2017)](https://ui.adsabs.harvard.edu/abs/2017PNAS..114.6712K/abstract).  Other example data are available at [OSF](https://osf.io/xs5b2/wiki/home/)."
   ]
  },
  {
   "cell_type": "code",
   "execution_count": 25,
   "metadata": {},
   "outputs": [],
   "source": [
    "data = np.array([96, 86, 34, 0, 20, 0, 27])   # Mo anomalies from Chihuahua City\n",
    "error = np.array([12, 8, 7, 0.1, 8, 0.1, 13])   # Mo anomalies from Chihuahua City"
   ]
  },
  {
   "cell_type": "markdown",
   "metadata": {},
   "source": [
    "Check for zero error values."
   ]
  },
  {
   "cell_type": "code",
   "execution_count": 26,
   "metadata": {},
   "outputs": [],
   "source": [
    "if run_comparison:\n",
    "    assert np.all(error), \"An error value is zero.\""
   ]
  },
  {
   "cell_type": "markdown",
   "metadata": {},
   "source": [
    "Define a fit function for the anomaly data."
   ]
  },
  {
   "cell_type": "code",
   "execution_count": 27,
   "metadata": {},
   "outputs": [],
   "source": [
    "if run_comparison:\n",
    "    def fit_function2(x, a_p, a_r, a_s):\n",
    "        result = a_p * proc['p'] + a_r * proc['r'] + a_s * proc['s']\n",
    "        result /= result[i_norm]    \n",
    "        reference = fit_function(x, *popt_std)\n",
    "        mu_raw = 1.e6 * ((result / reference) - 1)\n",
    "        mu = mass_fractionation_correction(mu_raw, i_norm, i_corr)\n",
    "        return mu"
   ]
  },
  {
   "cell_type": "markdown",
   "metadata": {},
   "source": [
    "Fit the data.  Normalize the fit parameters."
   ]
  },
  {
   "cell_type": "code",
   "execution_count": 28,
   "metadata": {},
   "outputs": [],
   "source": [
    "if run_comparison:\n",
    "    popt_mu, pcov_mu = curve_fit(fit_function2, a, data, bounds=(0, [1, 1, 1]), sigma=error)\n",
    "    popt_mu /= np.sum(popt_mu)"
   ]
  },
  {
   "cell_type": "markdown",
   "metadata": {},
   "source": [
    "Print the fit parameters."
   ]
  },
  {
   "cell_type": "code",
   "execution_count": 29,
   "metadata": {},
   "outputs": [],
   "source": [
    "if run_comparison:\n",
    "    a_fit = 1.e6 * (popt_mu/np.sum(popt_mu)/(popt_std/np.sum(popt_std)) - 1)\n",
    "\n",
    "    print('p_proc: {:.2f}'.format(a_fit[0]))\n",
    "    print('r_proc: {:.2f}'.format(a_fit[1]))\n",
    "    print('s_proc: {:.2f}'.format(a_fit[2]))"
   ]
  },
  {
   "cell_type": "markdown",
   "metadata": {},
   "source": [
    "Add and subtract nucleosynthetic components (in parts per million) to fit the data. Use the float text boxes to adjust the contribution of each component. You can enter values directly or click on the up/down arrows to increase or decrease the contribution. Note that p_proc is the p-process component, r_proc is the r-process component, and s_proc is the s-process component.  Click on the *Print fit mu values* to show the numerical values of the fitted mus or *Show raw pattern* button to plot the pattern before the mass-fractionation correction.\n",
    "\n",
    "The plot starts with the best fit parameters from the cell above."
   ]
  },
  {
   "cell_type": "code",
   "execution_count": 30,
   "metadata": {},
   "outputs": [],
   "source": [
    "if run_comparison:\n",
    "    def f(p_proc, r_proc, s_proc, b_corr, b_print):\n",
    "        c_p = (1 + p_proc/1.e6) * popt_std[0]\n",
    "        c_r = (1 + r_proc/1.e6) * popt_std[1]\n",
    "        c_s = (1 + s_proc/1.e6) * popt_std[2]\n",
    "\n",
    "        reference = fit_function(a, *popt_std)\n",
    "        reference /= reference[i_norm]\n",
    "        result = c_p * proc['p'] + c_r * proc['r'] + c_s * proc['s']\n",
    "        result /= result[i_norm]\n",
    "        mu_raw = 1.e6 * (result / reference - 1)\n",
    "        \n",
    "        mu = mass_fractionation_correction(mu_raw, i_norm, i_corr)\n",
    "\n",
    "        plt.plot(a, mu, '-o', label='corrected fit')\n",
    "        plt.errorbar(a, data, fmt='-o', yerr=error, label='data')\n",
    "        \n",
    "        if b_corr:\n",
    "            plt.plot(a, mu_raw, ':o', label='raw fit')\n",
    "\n",
    "        if b_print:\n",
    "            print(f\"Fit values:\\n\")\n",
    "            for i in range(len(a)):\n",
    "                print(f\"A = {int(a[i]):d}, mu = {mu[i]:.2f}\")\n",
    "\n",
    "        plt.xlabel('A, Mass Number')\n",
    "        plt.ylabel('$\\\\mu(' + sp_string + ')$')\n",
    "        plt.legend()\n",
    "        \n",
    "        plt.show()\n",
    "\n",
    "    a_f = [round(x, 0) for x in a_fit]\n",
    "\n",
    "    p_proc = widgets.BoundedFloatText(value=a_f[0], min=-1.e6, max=1.e20,\n",
    "                                      step=1, descriptions='p_proc:', disabled=False)\n",
    "    r_proc = widgets.BoundedFloatText(value=a_f[1], min=-1.e6, max=1.e20,\n",
    "                                      step=1, descriptions='r_proc:', disabled=False)\n",
    "    s_proc = widgets.BoundedFloatText(value=a_f[2], min=-1.e6, max=1.e20,\n",
    "                                      step=1, descriptions='s_proc:', disabled=False)\n",
    "    b_corr = widgets.Checkbox(value=False, description='Show raw pattern',\n",
    "                                      disabled=False, indent=False)\n",
    "    b_print = widgets.Checkbox(value=False, description='Print fit mu values',\n",
    "                                      disabled=False, indent=False)\n",
    "\n",
    "    out = interactive_output(f, {'p_proc': p_proc, 'r_proc': r_proc, 's_proc': s_proc,\n",
    "                                 'b_corr': b_corr, 'b_print': b_print})\n",
    "    display(HBox([p_proc]), HBox([r_proc]), HBox([s_proc]), HBox([b_print, b_corr]), out)"
   ]
  },
  {
   "cell_type": "code",
   "execution_count": null,
   "metadata": {},
   "outputs": [],
   "source": []
  }
 ],
 "metadata": {
  "interpreter": {
   "hash": "fd578b525fe7fcca8a3ea11350d18bcbeb29af20bd1df15f6c5fd2c9cf111483"
  },
  "kernelspec": {
   "display_name": "Python 3 (ipykernel)",
   "language": "python",
   "name": "python3"
  },
  "language_info": {
   "codemirror_mode": {
    "name": "ipython",
    "version": 3
   },
   "file_extension": ".py",
   "mimetype": "text/x-python",
   "name": "python",
   "nbconvert_exporter": "python",
   "pygments_lexer": "ipython3",
   "version": "3.13.3"
  }
 },
 "nbformat": 4,
 "nbformat_minor": 4
}
